{
  "nbformat": 4,
  "nbformat_minor": 0,
  "metadata": {
    "colab": {
      "provenance": []
    },
    "kernelspec": {
      "name": "python3",
      "display_name": "Python 3"
    },
    "language_info": {
      "name": "python"
    }
  },
  "cells": [
    {
      "cell_type": "code",
      "execution_count": null,
      "metadata": {
        "id": "vLUvsdmFHVXm"
      },
      "outputs": [],
      "source": [
        "path = \"/content/drive/MyDrive/IR_Project4/chitchat_csv_json.json\"\n",
        "trydata = json.load(open(path, \"r\"))\n",
        "cnt = 0\n",
        "dele = []\n",
        "for k,i in zip(trydata.keys(),trydata.values()):\n",
        "  if i['reply'] == 'Ok Bye!':\n",
        "    # print(k,i)\n",
        "    dele.append(k)\n",
        "    # del trydata[str(c)]\n",
        "\n",
        "    cnt+=1\n",
        "    \n",
        "  "
      ]
    },
    {
      "cell_type": "code",
      "source": [
        "for i in dele:\n",
        "  if i in trydata.keys():\n",
        "    del trydata[i]"
      ],
      "metadata": {
        "id": "DT-iFECKHcgw"
      },
      "execution_count": null,
      "outputs": []
    },
    {
      "cell_type": "code",
      "source": [
        "ccnt = 0\n",
        "for c,i in enumerate(trydata.values()):\n",
        "  if i['reply'] == 'Ok Bye!':\n",
        "\n",
        "    ccnt+=1"
      ],
      "metadata": {
        "id": "GrsMGyL7Hcbt"
      },
      "execution_count": null,
      "outputs": []
    },
    {
      "cell_type": "code",
      "source": [
        "with open(\"/content/drive/MyDrive/IR_Project4/chitchat_csv_json_removed.json\", \"w\") as outfile:\n",
        "    json.dump(trydata, outfile)"
      ],
      "metadata": {
        "id": "FRNqoYhKHcZR"
      },
      "execution_count": null,
      "outputs": []
    },
    {
      "cell_type": "code",
      "source": [
        "df_emp = pd.read_csv('/content/drive/MyDrive/IR_Project4/empathetic_processed.csv')\n",
        "df_emp"
      ],
      "metadata": {
        "id": "GnANapaHHcW5"
      },
      "execution_count": null,
      "outputs": []
    },
    {
      "cell_type": "code",
      "source": [
        "df_reddit = pd.read_csv('/content/drive/MyDrive/IR_Project4/reddit_to_index.csv')\n",
        "df_reddit.tail(30)"
      ],
      "metadata": {
        "id": "gCtgovhCHcUk"
      },
      "execution_count": null,
      "outputs": []
    },
    {
      "cell_type": "code",
      "source": [
        "df_reddit = df_reddit[['body','parent_body']]"
      ],
      "metadata": {
        "id": "n9r0S6raHcPo"
      },
      "execution_count": null,
      "outputs": []
    },
    {
      "cell_type": "code",
      "source": [
        "df_reddit.tail()"
      ],
      "metadata": {
        "id": "49xiR-DUHcNO"
      },
      "execution_count": null,
      "outputs": []
    },
    {
      "cell_type": "code",
      "source": [
        "df_reddit = df_reddit.rename(columns={'parent_body':'query','body':'reply'})"
      ],
      "metadata": {
        "id": "LXwOO7baHcLC"
      },
      "execution_count": null,
      "outputs": []
    },
    {
      "cell_type": "code",
      "source": [
        "df_emp = df_emp.rename(columns={\"user1\": \"query\", \"user2\": \"reply\"})"
      ],
      "metadata": {
        "id": "mlkvdeIIHcIl"
      },
      "execution_count": null,
      "outputs": []
    },
    {
      "cell_type": "code",
      "source": [
        "df_emp = df_emp.drop(['context'], axis = 1)"
      ],
      "metadata": {
        "id": "u2gI_qEFHcGI"
      },
      "execution_count": null,
      "outputs": []
    },
    {
      "cell_type": "code",
      "source": [
        "df = df[['query','reply']]"
      ],
      "metadata": {
        "id": "w-C8wBSuJnY7"
      },
      "execution_count": null,
      "outputs": []
    },
    {
      "cell_type": "code",
      "source": [
        "df_all = pd.concat([df,df_emp,df_reddit])\n"
      ],
      "metadata": {
        "id": "AUKp0Y0qJnWk"
      },
      "execution_count": null,
      "outputs": []
    },
    {
      "cell_type": "code",
      "source": [
        "df_all.reset_index(drop = True)"
      ],
      "metadata": {
        "id": "DAK1vNB0JnUS"
      },
      "execution_count": null,
      "outputs": []
    },
    {
      "cell_type": "code",
      "source": [],
      "metadata": {
        "id": "0QatH3W5JnRq"
      },
      "execution_count": null,
      "outputs": []
    },
    {
      "cell_type": "code",
      "source": [],
      "metadata": {
        "id": "AJpSGRslJnPK"
      },
      "execution_count": null,
      "outputs": []
    },
    {
      "cell_type": "code",
      "source": [],
      "metadata": {
        "id": "-2WYfwaJJnMt"
      },
      "execution_count": null,
      "outputs": []
    },
    {
      "cell_type": "code",
      "source": [],
      "metadata": {
        "id": "1dhF1cn3JnKI"
      },
      "execution_count": null,
      "outputs": []
    },
    {
      "cell_type": "code",
      "source": [],
      "metadata": {
        "id": "oeOLr1L1JnHX"
      },
      "execution_count": null,
      "outputs": []
    },
    {
      "cell_type": "code",
      "source": [],
      "metadata": {
        "id": "DeLfOn43JnER"
      },
      "execution_count": null,
      "outputs": []
    }
  ]
}